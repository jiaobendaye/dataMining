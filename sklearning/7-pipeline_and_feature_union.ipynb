{
 "cells": [
  {
   "cell_type": "code",
   "execution_count": 1,
   "metadata": {},
   "outputs": [
    {
     "name": "stderr",
     "output_type": "stream",
     "text": [
      "/opt/anaconda3/lib/python3.7/importlib/_bootstrap.py:219: RuntimeWarning: numpy.ufunc size changed, may indicate binary incompatibility. Expected 192 from C header, got 216 from PyObject\n",
      "  return f(*args, **kwds)\n"
     ]
    }
   ],
   "source": [
    "from sklearn import datasets, preprocessing\n",
    "from sklearn.model_selection import train_test_split\n",
    "from sklearn.decomposition import PCA\n",
    "from sklearn.linear_model import ElasticNetCV\n",
    "from sklearn.pipeline import Pipeline"
   ]
  },
  {
   "cell_type": "code",
   "execution_count": 5,
   "metadata": {},
   "outputs": [
    {
     "name": "stderr",
     "output_type": "stream",
     "text": [
      "/opt/anaconda3/lib/python3.7/site-packages/sklearn/model_selection/_split.py:2053: FutureWarning: You should specify a value for 'cv' instead of relying on the default value. The default value will change from 3 to 5 in version 0.22.\n",
      "  warnings.warn(CV_WARNING, FutureWarning)\n"
     ]
    },
    {
     "data": {
      "text/plain": [
       "array([28.1632712 , 20.95846406, 29.36671397, 15.04221205, 20.67650013,\n",
       "       20.50916234, 19.21301272, 23.17157504, 19.81923933, 17.312725  ,\n",
       "       11.18364867, 13.19413274, 17.21146529, 10.12669278, 35.9683861 ,\n",
       "       32.83476942, 20.23524251, 36.75684847, 31.32338886, 24.12472686,\n",
       "       24.79452627, 23.37639522, 19.21234996, 27.50780727, 24.10006569,\n",
       "       11.20922754, 18.73714356, 20.87392478, 33.16261118, 21.52945701,\n",
       "       17.34313426, 18.5969919 , 22.92221745, 25.99649967, 29.70356348,\n",
       "       21.36018059, 13.70793583, 23.88342652, 14.39359418, 13.94364528,\n",
       "       25.63616397, 22.7563874 , 26.76267206, 15.18523097, 29.28869318,\n",
       "       26.06306908, 21.71214916, 26.36346582, 15.30980659, 22.34397987,\n",
       "       23.69272986, 18.77924324, 25.87350061, 30.21579409, 10.04704704,\n",
       "       25.32728114, 23.18053249, 21.38299615, 14.99080725, 23.51149099,\n",
       "       23.54737569, 22.49154898, 31.48735433, 30.46104435, 17.58310529,\n",
       "       32.02365456, 18.29264093, 24.27208472, 15.93392702, 22.38309392,\n",
       "       21.03822516, 22.27193037, 29.44124572, 28.95574411, 22.5625506 ,\n",
       "        9.43155453, 34.10069044, 23.17054289, 27.7993268 , 20.45467954,\n",
       "       29.09420262, 14.41093649, 18.10645932, 34.34563141, 35.14734247,\n",
       "       24.72404781, 25.93692294, 13.32676074, 27.22767737, 16.83949106,\n",
       "       16.42757494, 13.15544047, 26.51985885, 32.12426312, 20.06480716,\n",
       "       23.24198796,  5.19206903, 27.46915779, 14.22700426, 20.96421586,\n",
       "       23.93834346, 20.7223067 , 32.8233187 , 21.22771932, 28.18573795,\n",
       "       26.93422519,  8.99965318, 15.68480614, 19.85078864, 28.77765487,\n",
       "       29.09522755, 12.14215852, 24.49187414, 21.06486403, 18.78646746,\n",
       "       24.56895745,  6.86407532, 15.38235016, 12.04692458, 41.72516183,\n",
       "       31.92961235, 13.68142297, 21.22522834, 21.5754458 , 23.52201304,\n",
       "       14.20544861, 31.46409626, 18.3738124 , 23.07456475, 33.05976868,\n",
       "       18.69269913, 11.49265174,  9.77467125, 21.74178978, 13.16477903,\n",
       "       29.97274777, 26.41361847, 21.03337758, 25.78117666,  9.40411751,\n",
       "       15.88435087, 21.11668427, 31.67956717, 29.2547699 , 23.3389668 ,\n",
       "       17.62823521, 29.69268817, 29.73433793, 12.760265  , 10.59403918,\n",
       "       27.14132465, 28.12531247,  3.35941162, 26.16412024, 13.12428818,\n",
       "       31.122854  , 14.21447483, 17.23515977, 20.6614846 , 14.82537744,\n",
       "        9.6397082 , 20.19440668, 34.67472114, 31.64519094, 27.797252  ,\n",
       "       21.53690786, 23.67252114, 26.10289415, 21.93142128])"
      ]
     },
     "execution_count": 5,
     "metadata": {},
     "output_type": "execute_result"
    }
   ],
   "source": [
    "boston = datasets.load_boston()\n",
    "X_train, X_test, Y_train, Y_test = train_test_split(boston.data, boston.target,\n",
    "                                                   test_size=1/3,random_state=0)\n",
    "#build pipeline, you can use make_pipeline for easy using\n",
    "pipe = Pipeline([('scaler',preprocessing.MinMaxScaler()), ('pca', PCA()),\n",
    "                 ('net',ElasticNetCV())])\n",
    "#set params\n",
    "pipe.set_params(scaler__feature_range=(0,1), pca__n_components=6)\n",
    "\n",
    "pipe.fit(X_train, Y_train)\n",
    "\n",
    "pipe.predict(X_test)"
   ]
  },
  {
   "cell_type": "code",
   "execution_count": 6,
   "metadata": {},
   "outputs": [
    {
     "data": {
      "text/plain": [
       "{'memory': None,\n",
       " 'steps': [('scaler', MinMaxScaler(copy=True, feature_range=(0, 1))),\n",
       "  ('pca',\n",
       "   PCA(copy=True, iterated_power='auto', n_components=6, random_state=None,\n",
       "     svd_solver='auto', tol=0.0, whiten=False)),\n",
       "  ('net', ElasticNetCV(alphas=None, copy_X=True, cv='warn', eps=0.001,\n",
       "          fit_intercept=True, l1_ratio=0.5, max_iter=1000, n_alphas=100,\n",
       "          n_jobs=None, normalize=False, positive=False, precompute='auto',\n",
       "          random_state=None, selection='cyclic', tol=0.0001, verbose=0))],\n",
       " 'scaler': MinMaxScaler(copy=True, feature_range=(0, 1)),\n",
       " 'pca': PCA(copy=True, iterated_power='auto', n_components=6, random_state=None,\n",
       "   svd_solver='auto', tol=0.0, whiten=False),\n",
       " 'net': ElasticNetCV(alphas=None, copy_X=True, cv='warn', eps=0.001,\n",
       "        fit_intercept=True, l1_ratio=0.5, max_iter=1000, n_alphas=100,\n",
       "        n_jobs=None, normalize=False, positive=False, precompute='auto',\n",
       "        random_state=None, selection='cyclic', tol=0.0001, verbose=0),\n",
       " 'scaler__copy': True,\n",
       " 'scaler__feature_range': (0, 1),\n",
       " 'pca__copy': True,\n",
       " 'pca__iterated_power': 'auto',\n",
       " 'pca__n_components': 6,\n",
       " 'pca__random_state': None,\n",
       " 'pca__svd_solver': 'auto',\n",
       " 'pca__tol': 0.0,\n",
       " 'pca__whiten': False,\n",
       " 'net__alphas': None,\n",
       " 'net__copy_X': True,\n",
       " 'net__cv': 'warn',\n",
       " 'net__eps': 0.001,\n",
       " 'net__fit_intercept': True,\n",
       " 'net__l1_ratio': 0.5,\n",
       " 'net__max_iter': 1000,\n",
       " 'net__n_alphas': 100,\n",
       " 'net__n_jobs': None,\n",
       " 'net__normalize': False,\n",
       " 'net__positive': False,\n",
       " 'net__precompute': 'auto',\n",
       " 'net__random_state': None,\n",
       " 'net__selection': 'cyclic',\n",
       " 'net__tol': 0.0001,\n",
       " 'net__verbose': 0}"
      ]
     },
     "execution_count": 6,
     "metadata": {},
     "output_type": "execute_result"
    }
   ],
   "source": [
    "#show params\n",
    "pipe.get_params()"
   ]
  },
  {
   "cell_type": "code",
   "execution_count": 7,
   "metadata": {},
   "outputs": [
    {
     "data": {
      "text/plain": [
       "0.5808150543260597"
      ]
     },
     "execution_count": 7,
     "metadata": {},
     "output_type": "execute_result"
    }
   ],
   "source": [
    "pipe.score(X_test, Y_test)"
   ]
  },
  {
   "cell_type": "markdown",
   "metadata": {},
   "source": [
    "## 特征融合\n",
    "estimater 的并联，pipeline属于串联"
   ]
  },
  {
   "cell_type": "code",
   "execution_count": 13,
   "metadata": {},
   "outputs": [],
   "source": [
    "from sklearn.pipeline import FeatureUnion\n",
    "from sklearn.decomposition import KernelPCA, PCA"
   ]
  },
  {
   "cell_type": "code",
   "execution_count": 14,
   "metadata": {},
   "outputs": [
    {
     "data": {
      "text/plain": [
       "(506, 8)"
      ]
     },
     "execution_count": 14,
     "metadata": {},
     "output_type": "execute_result"
    }
   ],
   "source": [
    "united = FeatureUnion([('linear_pca', PCA(n_components = 3)),\n",
    "                       ('kernel_pca', KernelPCA(n_components = 5))])\n",
    "united.fit_transform(boston.data).shape"
   ]
  },
  {
   "cell_type": "code",
   "execution_count": null,
   "metadata": {},
   "outputs": [],
   "source": []
  }
 ],
 "metadata": {
  "kernelspec": {
   "display_name": "Python 3",
   "language": "python",
   "name": "python3"
  },
  "language_info": {
   "codemirror_mode": {
    "name": "ipython",
    "version": 3
   },
   "file_extension": ".py",
   "mimetype": "text/x-python",
   "name": "python",
   "nbconvert_exporter": "python",
   "pygments_lexer": "ipython3",
   "version": "3.7.3"
  }
 },
 "nbformat": 4,
 "nbformat_minor": 2
}
