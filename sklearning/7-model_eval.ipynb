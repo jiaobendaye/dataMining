{
 "cells": [
  {
   "cell_type": "markdown",
   "metadata": {},
   "source": [
    "## 分类模型"
   ]
  },
  {
   "cell_type": "code",
   "execution_count": 2,
   "metadata": {},
   "outputs": [
    {
     "name": "stdout",
     "output_type": "stream",
     "text": [
      "[[2 1]\n",
      " [1 2]]\n",
      "准确率： 0.6666666666666666\n",
      "类别精度: [0.66666667 0.66666667]\n",
      "宏平均精度: 0.6666666666666666\n",
      "微平均召回率: 0.6666666666666666\n",
      "加权平均F1: 0.6666666666666666\n"
     ]
    }
   ],
   "source": [
    "from sklearn import metrics\n",
    "\n",
    "y_pred = [0, 0, 0, 1, 1, 1]\n",
    "y_true = [0, 1, 0, 1, 1, 0]\n",
    "\n",
    "print(metrics.confusion_matrix(y_true, y_pred))\n",
    "print('准确率：', metrics.accuracy_score(y_true, y_pred))\n",
    "\n",
    "print('类别精度:', metrics.precision_score(y_true, y_pred, average=None))\n",
    "\n",
    "print('宏平均精度:', metrics.precision_score(y_true, y_pred, average=\"macro\"))\n",
    "print('微平均召回率:', metrics.recall_score(y_true, y_pred, average='micro'))\n",
    "print('加权平均F1:', metrics.f1_score(y_true, y_pred, average='weighted'))"
   ]
  },
  {
   "cell_type": "markdown",
   "metadata": {},
   "source": [
    "## 回归模型"
   ]
  },
  {
   "cell_type": "code",
   "execution_count": 3,
   "metadata": {},
   "outputs": [
    {
     "name": "stdout",
     "output_type": "stream",
     "text": [
      "explained_variance_score 0.844682478959449\n",
      "r2 0.7827084927314459\n"
     ]
    }
   ],
   "source": [
    "from sklearn.metrics import explained_variance_score, r2_score\n",
    "y_pred = [3, -0.3, 2.2, 1.3]\n",
    "y_true = [2.3, 0, 2.0, 1.0]\n",
    "print('explained_variance_score', explained_variance_score(y_true, y_pred))\n",
    "print('r2', r2_score(y_true, y_pred))"
   ]
  },
  {
   "cell_type": "markdown",
   "metadata": {},
   "source": [
    "## 虚拟估计器产生基准得分"
   ]
  },
  {
   "cell_type": "code",
   "execution_count": null,
   "metadata": {},
   "outputs": [],
   "source": []
  }
 ],
 "metadata": {
  "kernelspec": {
   "display_name": "Python 3",
   "language": "python",
   "name": "python3"
  },
  "language_info": {
   "codemirror_mode": {
    "name": "ipython",
    "version": 3
   },
   "file_extension": ".py",
   "mimetype": "text/x-python",
   "name": "python",
   "nbconvert_exporter": "python",
   "pygments_lexer": "ipython3",
   "version": "3.7.3"
  }
 },
 "nbformat": 4,
 "nbformat_minor": 2
}
