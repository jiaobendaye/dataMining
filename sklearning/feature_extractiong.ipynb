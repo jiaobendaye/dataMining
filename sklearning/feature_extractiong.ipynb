{
 "cells": [
  {
   "cell_type": "markdown",
   "metadata": {},
   "source": [
    "## 一 字典加载"
   ]
  },
  {
   "cell_type": "code",
   "execution_count": 3,
   "metadata": {},
   "outputs": [
    {
     "name": "stdout",
     "output_type": "stream",
     "text": [
      "[[ 0.  0.  1. 33.]\n",
      " [ 0.  1.  0. 22.]\n",
      " [ 1.  0.  0. 32.]]\n"
     ]
    },
    {
     "data": {
      "text/plain": [
       "['city=Beijing', 'city=Dubai', 'city=London', 'temperature']"
      ]
     },
     "execution_count": 3,
     "metadata": {},
     "output_type": "execute_result"
    }
   ],
   "source": [
    "measurements = [\n",
    "    {'city': 'London', 'temperature': 33},\n",
    "    {'city': 'Dubai', 'temperature': 22},\n",
    "    {'city': 'Beijing', 'temperature': 32},\n",
    "    ]\n",
    "\n",
    "from sklearn.feature_extraction import DictVectorizer\n",
    "vec = DictVectorizer()\n",
    "print(vec.fit_transform(measurements).toarray())\n",
    "vec.get_feature_names()"
   ]
  },
  {
   "cell_type": "markdown",
   "metadata": {},
   "source": [
    "## 二 文本特征提取\n",
    "1. 词频向量"
   ]
  },
  {
   "cell_type": "code",
   "execution_count": 8,
   "metadata": {},
   "outputs": [
    {
     "name": "stdout",
     "output_type": "stream",
     "text": [
      "[[0 1 1 0 0 1 0 1]\n",
      " [0 1 1 2 1 0 0 0]\n",
      " [1 0 0 0 0 0 1 0]]\n",
      "{'unc': 7, 'played': 5, 'duke': 2, 'basketball': 1, 'lost': 4, 'game': 3, 'ate': 0, 'sandwich': 6}\n"
     ]
    }
   ],
   "source": [
    "from sklearn.feature_extraction.text import CountVectorizer\n",
    "corpus = [\n",
    "    'UNC played Duke in basketball',\n",
    "    'Duke lost the basketball game, game over',\n",
    "    'I ate a sandwich'\n",
    "]\n",
    "vectorizer = CountVectorizer(stop_words = 'english')\n",
    "print(vectorizer.fit_transform(corpus).todense())\n",
    "print(vectorizer.vocabulary_)"
   ]
  },
  {
   "cell_type": "code",
   "execution_count": 9,
   "metadata": {},
   "outputs": [
    {
     "name": "stderr",
     "output_type": "stream",
     "text": [
      "Building prefix dict from the default dictionary ...\n",
      "Dumping model to file cache /tmp/jieba.cache\n",
      "Loading model cost 0.476 seconds.\n",
      "Prefix dict has been built succesfully.\n"
     ]
    },
    {
     "name": "stdout",
     "output_type": "stream",
     "text": [
      "[[0 1 0 0 1]\n",
      " [1 1 1 1 1]\n",
      " [1 1 0 0 1]]\n",
      "{'朋友': 4, '小红': 1, '小明': 0, '我们': 2, '是不是': 3}\n"
     ]
    }
   ],
   "source": [
    "import jieba\n",
    "corpus = [\n",
    "    '朋友，小红是我的',\n",
    "    '小明对小红说，我们还是不是朋友',\n",
    "    '小明与小红是朋友'\n",
    "]\n",
    "cutcorps = ['/'.join(jieba.cut(x)) for x in corpus]\n",
    "vectorizer = CountVectorizer(stop_words = ['好的','是的'])\n",
    "counts = vectorizer.fit_transform(cutcorps).todense()\n",
    "print(counts)\n",
    "print(vectorizer.vocabulary_)"
   ]
  },
  {
   "cell_type": "code",
   "execution_count": null,
   "metadata": {},
   "outputs": [],
   "source": []
  }
 ],
 "metadata": {
  "kernelspec": {
   "display_name": "Python 3",
   "language": "python",
   "name": "python3"
  },
  "language_info": {
   "codemirror_mode": {
    "name": "ipython",
    "version": 3
   },
   "file_extension": ".py",
   "mimetype": "text/x-python",
   "name": "python",
   "nbconvert_exporter": "python",
   "pygments_lexer": "ipython3",
   "version": "3.7.3"
  }
 },
 "nbformat": 4,
 "nbformat_minor": 2
}
