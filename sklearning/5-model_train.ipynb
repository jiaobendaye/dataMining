{
 "cells": [
  {
   "cell_type": "markdown",
   "metadata": {},
   "source": [
    "# 一，分类模型"
   ]
  },
  {
   "cell_type": "code",
   "execution_count": 1,
   "metadata": {},
   "outputs": [],
   "source": [
    "import numpy as np\n",
    "import pandas as pd\n",
    "%matplotlib inline\n",
    "import matplotlib.pyplot as plt\n",
    "from sklearn import datasets\n"
   ]
  },
  {
   "cell_type": "code",
   "execution_count": 2,
   "metadata": {},
   "outputs": [
    {
     "data": {
      "image/png": "[encoded data removed]",
      "text/plain": [
       "<Figure size 432x288 with 1 Axes>"
      ]
     },
     "metadata": {
      "needs_background": "light"
     },
     "output_type": "display_data"
    }
   ],
   "source": [
    "digits = datasets.load_digits()\n",
    "\n",
    "plt.figure()\n",
    "plt.axis('off')\n",
    "plt.imshow(digits.images[0], cmap=plt.cm.gray_r, interpolation='nearest')\n",
    "plt.show()"
   ]
  },
  {
   "cell_type": "code",
   "execution_count": 3,
   "metadata": {},
   "outputs": [
    {
     "data": {
      "text/plain": [
       "(64,)"
      ]
     },
     "execution_count": 3,
     "metadata": {},
     "output_type": "execute_result"
    }
   ],
   "source": [
    "digits.data[0].shape"
   ]
  },
  {
   "cell_type": "code",
   "execution_count": 4,
   "metadata": {},
   "outputs": [
    {
     "data": {
      "text/plain": [
       "(1198, 599)"
      ]
     },
     "execution_count": 4,
     "metadata": {},
     "output_type": "execute_result"
    }
   ],
   "source": [
    "from sklearn.model_selection import train_test_split\n",
    "X_digits_train, X_digits_test, Y_digits_train, Y_digits_test = train_test_split(\n",
    "                                                    digits.data, digits.target,\n",
    "                                                    test_size=1/3)\n",
    "len(X_digits_train), len(X_digits_test)"
   ]
  },
  {
   "cell_type": "code",
   "execution_count": 5,
   "metadata": {},
   "outputs": [
    {
     "name": "stdout",
     "output_type": "stream",
     "text": [
      "[7 7 5 9 2 8 4 0 4 6 7 8 7 6 9 3 3 3 5 8 6 4 2 9 3 8 5 7 6 8 5 3 9 9 5 3 3\n",
      " 3 6 1 0 2 7 3 1 2 7 7 1 9 6 4 5 3 2 7 3 0 7 3 1 8 7 3 5 1 4 8 0 6 1 6 4 2\n",
      " 3 2 0 0 1 4 0 2 1 9 0 2 2 8 3 8 5 1 1 3 8 4 8 1 6 3 1 1 4 9 6 2 3 0 3 0 0\n",
      " 7 7 6 9 6 2 6 4 0 2 6 9 2 4 0 2 1 7 7 7 1 0 6 7 2 9 1 3 7 8 4 8 0 1 6 8 8\n",
      " 8 6 1 3 6 0 7 4 4 8 2 7 0 6 0 3 8 1 9 6 3 0 1 4 7 4 1 2 5 0 9 6 7 3 1 0 0\n",
      " 0 4 6 6 0 0 3 6 5 4 4 9 5 5 9 0 8 8 9 5 5 8 7 9 4 3 6 2 4 4 7 4 7 6 2 1 4\n",
      " 0 5 1 1 5 5 7 0 7 4 1 0 1 1 4 5 9 2 7 7 2 8 1 0 9 8 5 0 6 0 3 1 9 8 5 5 6\n",
      " 5 2 9 9 4 5 1 5 5 3 1 6 7 3 8 9 1 7 6 5 4 9 7 9 3 4 1 6 2 5 8 7 1 0 1 0 5\n",
      " 1 7 3 2 4 0 8 6 1 9 9 3 2 0 4 5 0 4 3 2 6 6 6 7 5 6 8 3 7 5 0 9 8 3 9 0 1\n",
      " 1 8 9 5 1 1 6 2 7 2 5 0 4 4 7 1 2 3 3 8 1 1 6 2 0 6 2 0 5 2 0 2 1 3 6 3 4\n",
      " 0 4 7 3 3 9 0 2 7 8 6 8 2 6 8 0 2 2 0 2 9 9 0 6 9 5 9 1 2 3 7 0 8 8 0 7 8\n",
      " 6 4 6 7 2 5 4 1 3 4 1 4 7 5 0 0 7 5 9 3 0 9 3 1 6 5 8 0 7 8 6 3 0 7 8 0 2\n",
      " 9 3 2 5 7 5 9 6 2 4 9 9 6 0 2 5 0 9 0 9 5 6 6 3 3 7 3 3 2 3 4 9 1 5 9 6 5\n",
      " 6 8 0 7 5 7 1 5 4 8 3 9 3 1 3 8 7 6 2 2 3 5 9 1 5 9 9 4 9 3 1 8 7 8 4 2 5\n",
      " 1 5 4 0 0 6 9 2 1 5 4 5 3 4 0 3 4 4 2 7 4 1 5 3 2 4 3 4 2 0 9 6 2 3 1 3 5\n",
      " 8 3 7 4 4 0 9 3 1 4 5 6 5 0 4 8 0 4 0 0 5 2 7 8 2 3 2 8 2 3 3 3 2 1 1 0 3\n",
      " 2 6 8 7 6 4 9]\n"
     ]
    }
   ],
   "source": [
    "from sklearn.tree import DecisionTreeClassifier\n",
    "treeClf = DecisionTreeClassifier()\n",
    "treeClf.fit(X_digits_train, Y_digits_train)\n",
    "print(treeClf.predict(X_digits_test))"
   ]
  },
  {
   "cell_type": "code",
   "execution_count": 6,
   "metadata": {},
   "outputs": [
    {
     "data": {
      "text/plain": [
       "0.8480801335559266"
      ]
     },
     "execution_count": 6,
     "metadata": {},
     "output_type": "execute_result"
    }
   ],
   "source": [
    "treeClf.score(X_digits_test, Y_digits_test)"
   ]
  },
  {
   "cell_type": "code",
   "execution_count": 7,
   "metadata": {},
   "outputs": [
    {
     "name": "stdout",
     "output_type": "stream",
     "text": [
      "[7 7 5 9 8 8 4 0 4 6 7 8 5 6 3 3 8 2 5 8 6 4 2 9 9 8 5 7 6 8 5 3 9 9 5 3 1\n",
      " 3 6 4 0 2 7 7 1 2 7 7 2 9 6 4 5 3 2 7 3 0 7 3 2 8 7 5 5 1 4 8 0 3 1 9 4 2\n",
      " 3 2 1 0 1 4 0 2 3 9 0 1 2 8 3 8 5 1 1 9 8 4 8 1 9 3 1 1 4 9 6 8 1 0 1 0 0\n",
      " 7 7 6 9 6 2 6 4 0 3 6 9 8 7 0 2 1 7 7 7 1 0 6 7 2 9 1 3 7 8 4 8 0 1 6 8 2\n",
      " 8 6 1 3 6 0 7 4 4 2 2 7 0 6 0 9 9 1 9 6 9 0 1 4 7 4 1 2 5 0 9 6 2 8 1 0 0\n",
      " 0 4 6 6 0 0 3 5 5 4 4 3 6 5 3 0 1 9 8 5 5 0 7 9 4 3 6 2 4 1 7 4 9 6 2 2 4\n",
      " 0 5 1 1 5 5 7 0 7 4 9 0 1 1 4 5 9 2 7 7 2 1 4 0 9 8 5 0 5 6 3 1 3 8 5 5 6\n",
      " 8 2 1 9 7 5 1 5 5 3 1 6 7 3 8 9 8 7 6 5 4 9 9 3 3 5 1 6 2 5 5 7 1 0 1 0 5\n",
      " 1 7 3 2 4 0 9 6 1 9 9 2 2 0 4 5 0 4 3 2 6 6 6 7 5 6 8 2 8 5 2 9 8 3 9 0 1\n",
      " 1 8 9 5 1 1 0 2 7 2 5 0 4 4 7 4 1 2 3 8 1 1 3 2 0 6 2 0 5 2 5 2 1 3 6 3 4\n",
      " 0 4 7 3 3 9 0 2 7 8 6 8 8 6 8 0 2 2 0 2 3 9 0 6 9 5 9 1 2 9 7 0 8 1 0 7 8\n",
      " 6 4 6 7 2 5 4 1 3 4 1 4 8 5 0 0 7 5 9 3 0 9 3 4 6 5 8 0 7 9 6 3 0 7 0 0 2\n",
      " 9 3 8 5 7 4 9 6 1 4 7 9 6 0 2 5 0 9 0 9 5 0 6 3 8 7 3 3 2 5 3 9 1 5 9 6 5\n",
      " 6 8 0 4 5 8 9 5 9 8 3 9 2 1 3 8 9 6 2 2 3 6 9 4 5 9 9 4 9 3 1 8 7 8 4 2 5\n",
      " 4 5 4 0 0 6 9 2 1 5 4 5 3 4 0 3 4 4 2 7 4 1 5 3 2 4 3 1 2 0 9 6 2 3 1 3 5\n",
      " 8 3 7 4 4 0 9 3 1 4 5 6 5 0 4 8 0 4 0 0 5 2 7 8 8 3 2 8 2 3 3 9 2 8 1 0 3\n",
      " 2 6 8 7 6 4 8]\n"
     ]
    },
    {
     "name": "stderr",
     "output_type": "stream",
     "text": [
      "/opt/anaconda3/lib/python3.7/site-packages/sklearn/ensemble/forest.py:246: FutureWarning: The default value of n_estimators will change from 10 in version 0.20 to 100 in 0.22.\n",
      "  \"10 in version 0.20 to 100 in 0.22.\", FutureWarning)\n"
     ]
    }
   ],
   "source": [
    "from sklearn.ensemble import RandomForestClassifier\n",
    "rfc = RandomForestClassifier()\n",
    "rfc.fit(X_digits_train, Y_digits_train)\n",
    "print(rfc.predict(X_digits_test))"
   ]
  },
  {
   "cell_type": "code",
   "execution_count": 8,
   "metadata": {},
   "outputs": [
    {
     "data": {
      "text/plain": [
       "0.9499165275459098"
      ]
     },
     "execution_count": 8,
     "metadata": {},
     "output_type": "execute_result"
    }
   ],
   "source": [
    "rfc.score(X_digits_test, Y_digits_test)"
   ]
  },
  {
   "cell_type": "code",
   "execution_count": 9,
   "metadata": {},
   "outputs": [
    {
     "name": "stdout",
     "output_type": "stream",
     "text": [
      "[7 7 5 9 8 8 4 0 4 6 7 8 5 6 3 3 8 2 5 1 6 4 2 9 9 8 5 7 6 8 5 3 9 9 5 3 1\n",
      " 3 6 4 0 2 7 7 1 2 7 7 2 9 6 4 5 3 2 7 3 0 7 3 2 8 7 5 5 1 4 8 0 5 1 5 4 2\n",
      " 3 2 1 0 1 4 0 2 2 9 0 1 2 8 2 8 5 1 1 5 8 4 8 1 9 3 1 1 4 9 6 8 1 0 5 0 0\n",
      " 7 7 6 9 6 2 6 4 0 2 6 9 8 7 0 2 1 7 7 7 9 0 6 7 2 9 1 3 7 8 4 8 0 1 6 8 2\n",
      " 8 6 1 3 6 0 7 4 4 2 2 7 0 6 0 9 0 1 9 6 9 0 1 4 7 4 1 2 5 0 9 6 8 7 1 0 0\n",
      " 0 4 6 6 0 0 3 5 5 4 4 9 5 5 9 0 1 9 8 5 5 0 7 9 4 3 6 2 4 1 7 4 9 6 2 2 6\n",
      " 0 5 1 1 5 5 7 0 7 4 9 0 1 1 4 5 9 2 7 7 2 8 4 0 9 8 5 0 5 6 3 1 9 8 5 5 6\n",
      " 8 2 9 9 7 5 1 5 5 3 1 6 7 3 8 9 9 7 6 5 4 9 9 3 3 5 1 6 2 5 5 7 1 0 1 0 5\n",
      " 1 7 3 2 4 0 9 6 1 9 9 2 2 0 4 5 0 4 3 2 6 6 6 7 5 6 8 2 2 5 2 9 8 3 9 0 1\n",
      " 1 8 9 5 1 1 0 2 7 2 5 0 4 4 7 4 8 2 3 8 1 8 3 2 0 6 2 0 5 2 5 2 1 3 6 3 4\n",
      " 0 4 7 3 3 9 0 2 7 8 6 9 8 6 8 0 2 2 0 2 9 9 0 6 9 5 9 1 2 9 7 0 8 1 0 7 8\n",
      " 6 4 6 7 2 5 4 1 3 4 1 4 8 5 0 0 7 5 9 3 0 9 3 4 6 5 8 0 7 9 6 3 0 7 0 0 2\n",
      " 9 7 8 5 7 4 9 6 8 4 7 9 6 0 2 5 0 9 0 9 5 0 6 3 3 7 5 3 2 5 3 9 1 5 9 6 5\n",
      " 6 8 0 4 5 2 9 5 9 8 3 9 3 1 3 8 9 6 2 2 3 5 9 4 5 9 9 4 9 3 1 8 7 8 4 2 8\n",
      " 4 5 4 0 0 6 9 2 8 5 4 5 3 4 0 3 4 4 2 7 4 1 5 3 2 4 3 1 2 0 9 6 2 3 1 3 5\n",
      " 8 3 7 4 4 0 9 3 1 4 5 6 5 0 4 8 0 4 0 0 5 2 7 8 8 3 2 8 2 3 3 3 2 8 1 0 3\n",
      " 2 6 8 7 6 4 8]\n"
     ]
    }
   ],
   "source": [
    "from sklearn import svm\n",
    "svmclf = svm.SVC(kernel='linear')\n",
    "svmclf.fit(X_digits_train, Y_digits_train)\n",
    "print(svmclf.predict(X_digits_test))"
   ]
  },
  {
   "cell_type": "code",
   "execution_count": 10,
   "metadata": {},
   "outputs": [
    {
     "data": {
      "text/plain": [
       "0.9816360601001669"
      ]
     },
     "execution_count": 10,
     "metadata": {},
     "output_type": "execute_result"
    }
   ],
   "source": [
    "svmclf.score(X_digits_test,Y_digits_test)"
   ]
  },
  {
   "cell_type": "markdown",
   "metadata": {},
   "source": [
    "# 二，回归模型"
   ]
  },
  {
   "cell_type": "code",
   "execution_count": 11,
   "metadata": {},
   "outputs": [],
   "source": [
    "from sklearn import preprocessing\n",
    "\n",
    "boston = datasets.load_boston()\n",
    "X_boston_train, X_boston_test, Y_boston_train, Y_boston_test = train_test_split(\n",
    "                                                    boston.data, boston.target,\n",
    "                                                    test_size=1/3)\n",
    "scaler = preprocessing.MinMaxScaler(feature_range=(0,1))\n",
    "\n",
    "scaler.fit(X_boston_train)\n",
    "\n",
    "X_boston_train, X_boston_test = scaler.transform(X_boston_train), scaler.transform(X_boston_test)"
   ]
  },
  {
   "cell_type": "code",
   "execution_count": 12,
   "metadata": {},
   "outputs": [
    {
     "name": "stdout",
     "output_type": "stream",
     "text": [
      "[21.9 22.6  5.6 17.8 28.4 24.6 20.6 20.  24.8 23.9 22.1 22.6 17.2 23.\n",
      " 33.4 44.8 23.8 22.6 27.5 31.5 11.3 32.  50.  23.9 34.9 24.8 50.  32.\n",
      " 14.  23.9 50.  22.4 18.3 31.2 22.9 22.4 23.8 33.1 22.8 14.9 21.2 50.\n",
      " 19.3 14.5 17.4 15.2 24.5 20.6 19.2 31.1 18.8 29.4 19.6 19.4 48.3 12.1\n",
      " 14.8 18.9 20.5 24.4 22.6 23.9 21.5 48.8 19.6 22.6 20.8 12.3 19.9 50.\n",
      " 12.1 34.9 16.5 50.  11.7 19.7 10.2 31.2 33.   7.2 13.8 33.1  7.2 16.8\n",
      " 24.3 22.9 37.  50.  33.1 22.6 23.1 19.7 18.7 23.8 12.  12.7 50.  33.8\n",
      " 13.9 43.1 24.8 18.3 48.3 18.4 23.9 19.8 13.1 15.2 19.4 10.8 11.  19.4\n",
      " 25.  18.5 33.1 21.9 19.8 14.9 18.2 10.8 14.6 19.6 18.2 31.7 20.7 29.6\n",
      " 22.6 21.7 30.3 22.8 15.6 17.1 36.  13.6 23.8 21.5 31.2 19.6 23.7 19.8\n",
      " 37.2 24.6 14.6 44.  19.6 14.9 13.4 17.8 20.6 13.5 19.6 26.5 22.2 22.6\n",
      " 13.4 16.5 22.2 23.9 14.3 21.6 33.   7.4 16.3 24.4 22.6 33.1 23.8 13.4\n",
      " 20. ]\n",
      "[0.20363636 0.04147465 0.12       0.26241135 0.06766917 0.00806452\n",
      " 0.14166667 0.05660377 0.21518987 0.522      0.0045045  0.13\n",
      " 0.03910615 0.00862069 0.03746398 0.19148936 0.06726457 0.07109005\n",
      " 0.09561753 0.16236162 0.0173913  0.11888112 0.1820331  0.044\n",
      " 0.         0.17607973 0.         0.33891213 0.21348315 0.04824561\n",
      " 0.25628141 0.10344828 0.03174603 0.33905579 0.00438596 0.15463918\n",
      " 0.02459016 0.1533101  0.08571429 0.1037037  0.0619469  0.14942529\n",
      " 0.15350877 0.06617647 0.03333333 0.02564103 0.52173913 0.15226337\n",
      " 0.03030303 0.06872852 0.16444444 0.28813559 0.05376344 0.01041667\n",
      " 0.034      0.72857143 0.0647482  0.18125    0.04205607 0.1509434\n",
      " 0.03004292 0.14946619 0.05392157 0.024      0.08411215 0.0462963\n",
      " 0.0995671  0.26804124 0.04188482 0.         0.16346154 0.04120879\n",
      " 0.32653061 0.7921147  0.21875    0.15811966 0.41666667 0.04697987\n",
      " 0.05444126 0.04       0.05343511 0.034375   0.33944954 0.00598802\n",
      " 0.39655172 0.04979253 0.04519774 0.         0.0433526  0.17098446\n",
      " 0.0744186  0.14534884 0.04102564 0.27956989 0.10447761 0.45258621\n",
      " 0.03092784 0.1009772  0.16806723 0.138      0.0122449  0.05181347\n",
      " 0.03426124 0.08910891 0.59333333 0.00507614 0.32474227 0.08433735\n",
      " 0.07177033 0.24137931 0.15789474 0.11818182 0.02880658 0.14197531\n",
      " 0.00301205 0.05288462 0.01538462 0.01324503 0.08542714 0.30120482\n",
      " 0.01388889 0.01030928 0.10784314 0.00316456 0.08       0.03859649\n",
      " 0.03196347 0.01401869 0.07902736 0.17090909 0.15217391 0.35714286\n",
      " 0.16129032 0.12820513 0.048      0.08040201 0.02295082 0.06220096\n",
      " 0.05333333 0.13142857 0.01846966 0.07423581 0.09774436 0.030837\n",
      " 0.28104575 0.07453416 0.13559322 0.40268456 0.00961538 0.29319372\n",
      " 0.15151515 0.11814346 0.22648084 0.04237288 0.18292683 0.375\n",
      " 0.03478261 0.00829876 0.14371257 0.2        0.06779661 0.11904762\n",
      " 0.05232558 0.06086957 0.02586207 0.02160494 0.03030303 0.11842105\n",
      " 0.03626943]\n",
      "0.7959902625067592\n"
     ]
    }
   ],
   "source": [
    "from sklearn.tree import DecisionTreeRegressor\n",
    "treeReg = DecisionTreeRegressor()\n",
    "treeReg.fit(X_boston_train, Y_boston_train)\n",
    "\n",
    "print(treeReg.predict(X_boston_test))\n",
    "print(np.abs(treeReg.predict(X_boston_test)/Y_boston_test - 1))\n",
    "print(treeReg.score(X_boston_test, Y_boston_test))"
   ]
  },
  {
   "cell_type": "code",
   "execution_count": 13,
   "metadata": {},
   "outputs": [
    {
     "name": "stdout",
     "output_type": "stream",
     "text": [
      "[24.81 21.52  7.27 14.48 27.28 26.17 21.74 20.19 31.97 37.93 22.91 20.98\n",
      " 15.46 23.99 35.12 45.55 22.07 20.33 26.25 23.87 11.9  27.46 47.36 31.79\n",
      " 34.12 31.36 33.03 27.41 13.45 26.51 40.01 21.1  20.56 25.03 22.55 19.64\n",
      " 23.53 31.75 21.86 15.65 20.43 49.31 22.41 13.54 16.89 16.85 22.15 21.43\n",
      " 19.25 29.93 18.98 26.96 20.23 21.45 39.98  7.35 16.13 19.86 21.86 23.09\n",
      " 21.38 23.19 19.23 48.48 19.24 22.48 16.02 11.07 18.48 49.59  7.12 33.4\n",
      " 22.09 16.85 14.96 21.    8.48 28.   34.81 11.2  14.95 31.58 11.38 13.41\n",
      " 20.79 22.76 33.23 38.4  32.21 20.77 20.14 17.95 18.78 18.55 12.65 15.31\n",
      " 48.83 27.86 12.37 42.8  27.91 21.87 45.95 20.86 19.79 18.73 17.09 17.33\n",
      " 19.76 10.99 12.15 20.29 22.25 20.07 30.68 17.17 18.65 13.45 18.59  9.93\n",
      " 12.52 21.06 18.59 30.43 20.33 32.59 22.04 18.06 33.04 25.4  16.71 15.95\n",
      " 27.91 16.03 24.48 19.12 30.87 20.28 23.47 20.45 33.88 23.74 13.7  45.39\n",
      " 19.71 17.57 12.85 25.33 22.9  14.65 19.24 33.53 24.49 22.57 17.44 22.57\n",
      " 22.46 23.69 14.9  23.78 34.7   8.98 16.8  19.07 22.56 31.64 24.01 16.28\n",
      " 20.45]\n",
      "[9.78181818e-02 8.29493088e-03 4.54000000e-01 2.69503546e-02\n",
      " 2.55639098e-02 5.52419355e-02 9.41666667e-02 4.76415094e-02\n",
      " 1.17088608e-02 2.41400000e-01 3.19819820e-02 4.90000000e-02\n",
      " 1.36312849e-01 3.40517241e-02 1.21037464e-02 2.11436170e-01\n",
      " 1.03139013e-02 3.64928910e-02 4.58167331e-02 1.19188192e-01\n",
      " 3.47826087e-02 3.98601399e-02 1.19621749e-01 2.71600000e-01\n",
      " 2.23495702e-02 4.18604651e-02 3.39400000e-01 1.46861925e-01\n",
      " 2.44382022e-01 1.62719298e-01 5.27638191e-03 3.94088670e-02\n",
      " 8.78306878e-02 7.42489270e-02 1.09649123e-02 1.23711340e-02\n",
      " 3.56557377e-02 1.06271777e-01 4.09523810e-02 1.59259259e-01\n",
      " 9.60176991e-02 1.33563218e-01 1.71052632e-02 4.41176471e-03\n",
      " 6.16666667e-02 8.01282051e-02 3.75776398e-01 1.18106996e-01\n",
      " 2.77777778e-02 2.85223368e-02 1.56444444e-01 3.47215496e-01\n",
      " 8.76344086e-02 1.17187500e-01 2.00400000e-01 5.00000000e-02\n",
      " 1.60431655e-01 2.41250000e-01 2.14953271e-02 8.91509434e-02\n",
      " 8.24034335e-02 1.74733096e-01 5.73529412e-02 3.04000000e-02\n",
      " 1.00934579e-01 4.07407407e-02 3.06493506e-01 1.41237113e-01\n",
      " 3.24607330e-02 8.20000000e-03 3.15384615e-01 8.24175824e-02\n",
      " 9.83673469e-02 3.96057348e-01 5.58333333e-01 1.02564103e-01\n",
      " 1.77777778e-01 6.04026846e-02 2.57879656e-03 4.93333333e-01\n",
      " 1.41221374e-01 1.31250000e-02 4.40366972e-02 1.97005988e-01\n",
      " 1.94827586e-01 5.56016598e-02 6.12994350e-02 2.32000000e-01\n",
      " 6.90751445e-02 7.61658031e-02 6.32558140e-02 4.36046512e-02\n",
      " 3.69230769e-02 2.68817204e-03 5.59701493e-02 3.40086207e-01\n",
      " 6.80412371e-03 9.25081433e-02 3.94957983e-02 1.44000000e-01\n",
      " 1.39183673e-01 1.33160622e-01 1.60599572e-02 3.26732673e-02\n",
      " 3.19333333e-01 4.92385787e-02 1.19072165e-01 4.39759036e-02\n",
      " 5.45454545e-02 2.63218391e-01 2.78947368e-01 7.77272727e-02\n",
      " 8.43621399e-02 2.38888889e-01 7.59036145e-02 1.74519231e-01\n",
      " 4.35897436e-02 1.09271523e-01 6.58291457e-02 1.96385542e-01\n",
      " 1.30555556e-01 8.55670103e-02 8.87254902e-02 3.70253165e-02\n",
      " 9.64444444e-02 1.43508772e-01 6.39269406e-03 1.56074766e-01\n",
      " 4.25531915e-03 7.63636364e-02 9.18478261e-02 2.65873016e-01\n",
      " 9.96774194e-02 2.75641026e-02 2.08000000e-02 3.91959799e-02\n",
      " 1.21311475e-02 2.96650718e-02 4.31111111e-02 1.68571429e-01\n",
      " 1.06068602e-01 3.66812227e-02 3.00751880e-02 2.20264317e-04\n",
      " 2.88235294e-01 9.13043478e-02 8.89830508e-02 1.50000000e-01\n",
      " 1.00961538e-01 2.32984293e-01 1.67099567e-01 4.14767932e-01\n",
      " 1.46689895e-01 4.36440678e-02 6.34146341e-02 1.45075758e-01\n",
      " 2.34782609e-02 1.70124481e-02 1.07784431e-01 1.19259259e-01\n",
      " 1.97740113e-02 6.90476190e-02 2.32558140e-02 1.70869565e-01\n",
      " 2.75862069e-02 2.34567901e-02 3.93939394e-02 7.10526316e-02\n",
      " 5.95854922e-02]\n",
      "0.8631361836484135\n"
     ]
    },
    {
     "name": "stderr",
     "output_type": "stream",
     "text": [
      "/opt/anaconda3/lib/python3.7/site-packages/sklearn/ensemble/forest.py:246: FutureWarning: The default value of n_estimators will change from 10 in version 0.20 to 100 in 0.22.\n",
      "  \"10 in version 0.20 to 100 in 0.22.\", FutureWarning)\n"
     ]
    }
   ],
   "source": [
    "from sklearn.ensemble import RandomForestRegressor\n",
    "rfreg = RandomForestRegressor()\n",
    "rfreg.fit(X_boston_train, Y_boston_train)\n",
    "\n",
    "print(rfreg.predict(X_boston_test))\n",
    "print(np.abs(rfreg.predict(X_boston_test)/Y_boston_test - 1))\n",
    "print(rfreg.score(X_boston_test, Y_boston_test))"
   ]
  },
  {
   "cell_type": "code",
   "execution_count": 14,
   "metadata": {},
   "outputs": [
    {
     "name": "stdout",
     "output_type": "stream",
     "text": [
      "0.658999979941075\n"
     ]
    },
    {
     "name": "stderr",
     "output_type": "stream",
     "text": [
      "/opt/anaconda3/lib/python3.7/site-packages/sklearn/model_selection/_split.py:2053: FutureWarning: You should specify a value for 'cv' instead of relying on the default value. The default value will change from 3 to 5 in version 0.22.\n",
      "  warnings.warn(CV_WARNING, FutureWarning)\n"
     ]
    }
   ],
   "source": [
    "from sklearn.linear_model import LassoCV\n",
    "\n",
    "larreg = LassoCV()\n",
    "larreg.fit(X_boston_train, Y_boston_train)\n",
    "print(larreg.score(X_boston_test, Y_boston_test))"
   ]
  },
  {
   "cell_type": "code",
   "execution_count": 15,
   "metadata": {},
   "outputs": [
    {
     "name": "stdout",
     "output_type": "stream",
     "text": [
      "0.6564640053707588\n"
     ]
    },
    {
     "name": "stderr",
     "output_type": "stream",
     "text": [
      "/opt/anaconda3/lib/python3.7/site-packages/sklearn/model_selection/_split.py:2053: FutureWarning: You should specify a value for 'cv' instead of relying on the default value. The default value will change from 3 to 5 in version 0.22.\n",
      "  warnings.warn(CV_WARNING, FutureWarning)\n"
     ]
    }
   ],
   "source": [
    "from sklearn.linear_model import ElasticNetCV\n",
    "\n",
    "elnreg = ElasticNetCV()\n",
    "elnreg.fit(X_boston_train, Y_boston_train)\n",
    "print(elnreg.score(X_boston_test, Y_boston_test))"
   ]
  },
  {
   "cell_type": "code",
   "execution_count": 16,
   "metadata": {},
   "outputs": [
    {
     "name": "stderr",
     "output_type": "stream",
     "text": [
      "/opt/anaconda3/lib/python3.7/site-packages/sklearn/model_selection/_split.py:2053: FutureWarning: You should specify a value for 'cv' instead of relying on the default value. The default value will change from 3 to 5 in version 0.22.\n",
      "  warnings.warn(CV_WARNING, FutureWarning)\n"
     ]
    },
    {
     "name": "stdout",
     "output_type": "stream",
     "text": [
      "0.6564640053707588\n"
     ]
    }
   ],
   "source": [
    "from sklearn.linear_model import RidgeCV\n",
    "\n",
    "rgreg = ElasticNetCV()\n",
    "rgreg.fit(X_boston_train, Y_boston_train)\n",
    "print(rgreg.score(X_boston_test, Y_boston_test))"
   ]
  },
  {
   "cell_type": "markdown",
   "metadata": {},
   "source": [
    "# 三，聚类模型"
   ]
  },
  {
   "cell_type": "code",
   "execution_count": 17,
   "metadata": {},
   "outputs": [
    {
     "name": "stdout",
     "output_type": "stream",
     "text": [
      "(200, 2)\n",
      "{0, 1, 2}\n"
     ]
    },
    {
     "data": {
      "text/plain": [
       "<matplotlib.axes._subplots.AxesSubplot at 0x7feea060b550>"
      ]
     },
     "execution_count": 17,
     "metadata": {},
     "output_type": "execute_result"
    },
    {
     "data": {
      "image/png": "[encoded data removed]",
      "text/plain": [
       "<Figure size 432x288 with 1 Axes>"
      ]
     },
     "metadata": {
      "needs_background": "light"
     },
     "output_type": "display_data"
    }
   ],
   "source": [
    "import pandas as pd\n",
    "import matplotlib.pyplot as plt\n",
    "%matplotlib inline\n",
    "from sklearn.datasets.samples_generator import make_blobs\n",
    "import numpy as np\n",
    "\n",
    "center = [[1,1], [-1,-1],[1, -1]]\n",
    "cluster_std = 0.3\n",
    "X, labels = make_blobs(n_samples=200, centers=center, n_features=2,\n",
    "                       cluster_std=cluster_std, random_state= 0)\n",
    "print(X.shape)\n",
    "print(set(labels))\n",
    "df = pd.DataFrame(np.c_[X, labels], columns=['feature1', 'feature2', 'labels'])\n",
    "df['labels'] = df['labels'].astype('i2')\n",
    "\n",
    "df.plot.scatter('feature1', 'feature2', s = 100,\n",
    "                c = list(df['labels']), cmap = 'rainbow', colorbar = False,\n",
    "                alpha = 0.8, title = 'dataset by make_blobs')"
   ]
  },
  {
   "cell_type": "code",
   "execution_count": 18,
   "metadata": {},
   "outputs": [
    {
     "name": "stdout",
     "output_type": "stream",
     "text": [
      "[0 0 0 0 0 0 0 0 0 0 0 0 0 0 0 0 0 0 0 0 0 0 0 0 0 0 0 0 0 0 0 0 0 0 0 0 0\n",
      " 0 0 0 0 0 0 0 0 0 0 0 0 0 0 0 0 0 0 0 0 0 0 0 0 0 0 0 0 0 0 0 0 0 0 0 0 0\n",
      " 0 0 0 0 0 0 0 0 0 0 0 0 0 0 0 0 0 0 0 0 0 0 0 0 0 0 0 0 0 0 0 0 0 0 0 0 0\n",
      " 0 0 0 0 0 0 0 0 0 0 0 0 0 0 0 0 0 0 0 0 0 0 0 0 0 0 0 0 0 0 0 0 0 0 0 0 0\n",
      " 0 0 0 0 0 0 0 0 0 0 0 0 0 0 0 0 0 0 0 0 0 0 0 0 0 0 0 0 0 0 0 0 0 0 0 0 0\n",
      " 0 0 0 0 0 0 0 0 0 0 0 0 0 0 0]\n",
      "[[ 1.01281413  1.06595402]\n",
      " [-1.03507066 -1.03233287]\n",
      " [ 0.95712283 -1.02057236]]\n"
     ]
    }
   ],
   "source": [
    "from sklearn.cluster import KMeans\n",
    "clt = KMeans(n_clusters=3)\n",
    "\n",
    "clt.fit(X)\n",
    "print(clt.predict(X) - labels)\n",
    "print(clt.cluster_centers_)"
   ]
  },
  {
   "cell_type": "code",
   "execution_count": 19,
   "metadata": {},
   "outputs": [
    {
     "data": {
      "image/png": "[encoded data removed]",
      "text/plain": [
       "<Figure size 432x288 with 1 Axes>"
      ]
     },
     "metadata": {
      "needs_background": "light"
     },
     "output_type": "display_data"
    }
   ],
   "source": [
    "fig =df.plot.scatter('feature1', 'feature2', s = 100,\n",
    "                c = list(df['labels']), cmap = 'rainbow', colorbar = False,\n",
    "                alpha = 0.4, title = 'dataset by make_blobs')\n",
    "centers = clt.cluster_centers_\n",
    "fig.axes.scatter(x = centers[:, 0], y=centers[:, 1], facecolor = 'K',s=10)\n",
    "plt.show()"
   ]
  },
  {
   "cell_type": "markdown",
   "metadata": {},
   "source": [
    "# 四，降维"
   ]
  },
  {
   "cell_type": "code",
   "execution_count": 20,
   "metadata": {},
   "outputs": [
    {
     "data": {
      "text/plain": [
       "PCA(copy=True, iterated_power='auto', n_components=6, random_state=None,\n",
       "  svd_solver='auto', tol=0.0, whiten=False)"
      ]
     },
     "execution_count": 20,
     "metadata": {},
     "output_type": "execute_result"
    }
   ],
   "source": [
    "from sklearn.decomposition import PCA\n",
    "\n",
    "pca = PCA(n_components=6)\n",
    "pca.fit(X_boston_train, Y_boston_train)\n"
   ]
  },
  {
   "cell_type": "code",
   "execution_count": 21,
   "metadata": {},
   "outputs": [
    {
     "data": {
      "text/plain": [
       "array([0.40731872, 0.10334821, 0.07218228, 0.0505428 , 0.03646902,\n",
       "       0.03164952])"
      ]
     },
     "execution_count": 21,
     "metadata": {},
     "output_type": "execute_result"
    }
   ],
   "source": [
    "pca.explained_variance_"
   ]
  },
  {
   "cell_type": "code",
   "execution_count": 22,
   "metadata": {},
   "outputs": [
    {
     "data": {
      "image/png": "[encoded data removed]",
      "text/plain": [
       "<Figure size 432x288 with 1 Axes>"
      ]
     },
     "metadata": {
      "needs_background": "light"
     },
     "output_type": "display_data"
    }
   ],
   "source": [
    "plt.figure()\n",
    "plt.plot(pca.explained_variance_, 'k', linewidth=2)\n",
    "plt.xlabel('components_n', fontsize=16)\n",
    "plt.ylabel('explained_variance_', fontsize=16)\n",
    "plt.show()"
   ]
  },
  {
   "cell_type": "code",
   "execution_count": 24,
   "metadata": {},
   "outputs": [
    {
     "name": "stderr",
     "output_type": "stream",
     "text": [
      "/opt/anaconda3/lib/python3.7/site-packages/sklearn/model_selection/_split.py:2053: FutureWarning: You should specify a value for 'cv' instead of relying on the default value. The default value will change from 3 to 5 in version 0.22.\n",
      "  warnings.warn(CV_WARNING, FutureWarning)\n"
     ]
    },
    {
     "data": {
      "text/plain": [
       "0.5808031742163423"
      ]
     },
     "execution_count": 24,
     "metadata": {},
     "output_type": "execute_result"
    }
   ],
   "source": [
    "X_boston_train_pca, X_boston_test_pca =  pca.transform(X_boston_train), pca.transform( X_boston_test)\n",
    "from sklearn.linear_model import ElasticNetCV\n",
    "\n",
    "enetreg = ElasticNetCV()\n",
    "enetreg.fit(X_boston_train_pca, Y_boston_train)\n",
    "enetreg.score(X_boston_test_pca, Y_boston_test)"
   ]
  },
  {
   "cell_type": "code",
   "execution_count": null,
   "metadata": {},
   "outputs": [],
   "source": []
  }
 ],
 "metadata": {
  "kernelspec": {
   "display_name": "Python 3",
   "language": "python",
   "name": "python3"
  },
  "language_info": {
   "codemirror_mode": {
    "name": "ipython",
    "version": 3
   },
   "file_extension": ".py",
   "mimetype": "text/x-python",
   "name": "python",
   "nbconvert_exporter": "python",
   "pygments_lexer": "ipython3",
   "version": "3.7.3"
  }
 },
 "nbformat": 4,
 "nbformat_minor": 2
}
